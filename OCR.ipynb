{
 "cells": [
  {
   "cell_type": "code",
   "execution_count": 7,
   "metadata": {},
   "outputs": [],
   "source": [
    "# from PIL import Image\n",
    "%matplotlib inline\n",
    "import regex\n",
    "import pytesseract as pt\n",
    "from pytesseract import Output\n",
    "\n",
    "import cv2\n",
    "from matplotlib import pyplot as plt"
   ]
  },
  {
   "cell_type": "markdown",
   "metadata": {},
   "source": [
    "# Optical Character Recognition\n",
    "Saketh Raman KS (19PW26)\n",
    "\n",
    "Sanjay T (19PW28)"
   ]
  },
  {
   "cell_type": "code",
   "execution_count": 41,
   "metadata": {},
   "outputs": [],
   "source": [
    "import os\n",
    "\n",
    "IMAGE_FORMATS = ('.png', '.jpg', '.jpeg')\n",
    "\n",
    "def get_image_files(path):\n",
    "  files = os.listdir(path)\n",
    "  imgFiles = [ x for x in files if x.lower().endswith(IMAGE_FORMATS) ]\n",
    "  return imgFiles\n",
    "\n",
    "def clear_folder(folder):\n",
    "  for filename in os.listdir(folder):\n",
    "    file_path = os.path.join(folder, filename)\n",
    "    os.unlink(file_path)\n",
    "\n",
    "def remove_extension(file):\n",
    "  dotIndex = file.index('.')\n",
    "  return file[ : dotIndex]\n",
    "  "
   ]
  },
  {
   "cell_type": "markdown",
   "metadata": {},
   "source": [
    "## Stage 1 - Detection of license plates"
   ]
  },
  {
   "cell_type": "code",
   "execution_count": 8,
   "metadata": {},
   "outputs": [],
   "source": [
    "\n",
    "from imageai.Detection import ObjectDetection\n",
    "import copy\n",
    "\n",
    "YOLO_PATH = \"./Models/yolo.h5\"\n",
    "\n",
    "class ObjectDetector:\n",
    "    def __init__(self, input_path, output_path, min_prob):\n",
    "        self.input_path = input_path\n",
    "        self.output_path = output_path\n",
    "        self.detector = ObjectDetection()\n",
    "        self.min_prob = min_prob\n",
    "        self.detections = {}\n",
    "        \n",
    "        self.detector.setModelTypeAsYOLOv3()\n",
    "        self.detector.setModelPath(YOLO_PATH)\n",
    "\n",
    "    def detect(self):\n",
    "        self.detector.loadModel()\n",
    "        clear_folder(self.output_path)\n",
    "        \n",
    "        for imgFile in get_image_files(self.input_path):\n",
    "            input_image = os.path.join(self.input_path, imgFile)\n",
    "            output_image = os.path.join(self.output_path, imgFile)\n",
    "            det = self.detector.detectObjectsFromImage(input_image=input_image, output_image_path=output_image, minimum_percentage_probability=self.min_prob)\n",
    "            self.detections[input_image] = det\n",
    "    \n",
    "    def get_detections(self):\n",
    "        return self.detections\n",
    "    \n",
    "    def get_detection_labels(self):\n",
    "        detected_labels = {}\n",
    "        for file, detection in self.detections.items():\n",
    "            labels = []\n",
    "            for detection_dict in detection:\n",
    "                labels.append(detection_dict[\"name\"])\n",
    "            \n",
    "            detected_labels[file] = copy.deepcopy(labels)\n",
    "        \n",
    "        return detected_labels"
   ]
  },
  {
   "cell_type": "code",
   "execution_count": 10,
   "metadata": {},
   "outputs": [
    {
     "name": "stdout",
     "output_type": "stream",
     "text": [
      "{'./Data/Image/Input/car2.jpg': ['car', 'truck'], './Data/Image/Input/car3.jpg': ['car', 'car', 'car'], './Data/Image/Input/car4.jpeg': ['car'], './Data/Image/Input/car5.jpg': ['car', 'car'], './Data/Image/Input/car1.jpg': ['car', 'car', 'car', 'car', 'car'], './Data/Image/Input/car6.jpeg': ['car'], './Data/Image/Input/car7.jpg': ['car'], './Data/Image/Input/bus1.jpg': ['bus', 'person', 'person', 'person', 'person'], './Data/Image/Input/car8.jpeg': ['car', 'car', 'truck', 'bus', 'person'], './Data/Image/Input/car9.jpeg': ['car', 'motorcycle'], './Data/Image/Input/street1.jpg': [], './Data/Image/Input/street2.jpg': ['traffic light'], './Data/Image/Input/street3.jpg': []}\n"
     ]
    }
   ],
   "source": [
    "carInputPath = \"./Data/Image/Input\"\n",
    "carLabelledPath = \"./Data/Image/Labelled\"\n",
    "\n",
    "objDet = ObjectDetector(carInputPath, carLabelledPath, 50)\n",
    "objDet.detect()\n",
    "detections = objDet.get_detection_labels()\n",
    "print(detections)"
   ]
  },
  {
   "cell_type": "markdown",
   "metadata": {},
   "source": [
    "Filtering\n",
    "\n",
    "The image files which contain relevant labels are filtered and copied to a different location"
   ]
  },
  {
   "cell_type": "code",
   "execution_count": 13,
   "metadata": {},
   "outputs": [
    {
     "name": "stdout",
     "output_type": "stream",
     "text": [
      "['./Data/Image/Input/car2.jpg', './Data/Image/Input/car3.jpg', './Data/Image/Input/car4.jpeg', './Data/Image/Input/car5.jpg', './Data/Image/Input/car1.jpg', './Data/Image/Input/car6.jpeg', './Data/Image/Input/car7.jpg', './Data/Image/Input/bus1.jpg', './Data/Image/Input/car8.jpeg', './Data/Image/Input/car9.jpeg']\n"
     ]
    }
   ],
   "source": [
    "FILTER_LABELS = (\"car\", \"bus\", \"truck\", \"motorcycle\")\n",
    "\n",
    "filtered_files = []\n",
    "for file, file_labels in detections.items():\n",
    "  for filter_label in FILTER_LABELS:\n",
    "    if filter_label in file_labels:\n",
    "      filtered_files.append(file)\n",
    "      break"
   ]
  },
  {
   "cell_type": "code",
   "execution_count": 14,
   "metadata": {},
   "outputs": [],
   "source": [
    "import shutil\n",
    "\n",
    "CAR_FOLDER = \"./Data/Car\"\n",
    "\n",
    "for filename in filtered_files:\n",
    "  file_basename = os.path.basename(filename)\n",
    "  copied_file_path = os.path.join(CAR_FOLDER, file_basename)\n",
    "  shutil.copy(filename, copied_file_path)"
   ]
  },
  {
   "cell_type": "code",
   "execution_count": 3,
   "metadata": {},
   "outputs": [],
   "source": [
    "import cv2\n",
    "\n",
    "class ImageProcess:\n",
    "\n",
    "    @staticmethod\n",
    "    def get_grayscale(image):\n",
    "        return cv2.cvtColor(image, cv2.COLOR_BGR2GRAY)\n",
    "\n",
    "    @staticmethod\n",
    "    def remove_noise(image):\n",
    "        return cv2.medianBlur(image, 5)\n",
    "\n",
    "    @staticmethod\n",
    "    def thresholding(image):\n",
    "        return cv2.threshold(image, 0, 255,  cv2.THRESH_BINARY + cv2.THRESH_OTSU)[1]\n",
    "\n",
    "    @staticmethod\n",
    "    def dilate(image):\n",
    "        kernel = np.ones((3, 3), np.uint8)\n",
    "        return cv2.dilate(image, kernel, iterations=1)\n",
    "\n",
    "    @staticmethod\n",
    "    def erode(image):\n",
    "        kernel = np.ones((6, 6), np.uint8)\n",
    "        print(kernel)\n",
    "        return cv2.erode(image, kernel, iterations=1)\n",
    "\n",
    "    @staticmethod\n",
    "    def opening(image):\n",
    "        kernel = np.ones((5, 5), np.uint8)\n",
    "        return cv2.morphologyEx(image, cv2.MORPH_OPEN, kernel)\n",
    "\n",
    "    @staticmethod\n",
    "    def canny(image):\n",
    "        return cv2.Canny(image, 100, 200)\n",
    "\n",
    "    @staticmethod\n",
    "    def sharpen(image):\n",
    "        kernel = np.ones((3, 3), np.uint8)\n",
    "        return cv2.filter2D(src=image, ddepth=-1, kernel=kernel)"
   ]
  },
  {
   "cell_type": "code",
   "execution_count": 4,
   "metadata": {},
   "outputs": [],
   "source": [
    "CASCADE_PATH = \"./Models/numberplate.xml\"\n",
    "\n",
    "class CascadeClassifier:\n",
    "  def __init__(self, image, min_neighbors):\n",
    "    self.image = image\n",
    "    self.classifier = cv2.CascadeClassifier(CASCADE_PATH)\n",
    "    self.min_neighbors = min_neighbors\n",
    "  \n",
    "  def detect_cascade(self):\n",
    "    self.coords = self.classifier.detectMultiScale(self.image, self.min_neighbors)\n",
    "  \n",
    "  def get_coords(self):\n",
    "    return self.coords\n",
    "  \n",
    "  def get_plate(self):\n",
    "    coord = self.coords[0]\n",
    "    x, y, w, h = coord\n",
    "    plate = self.image[y : y + h, x : x + w]\n",
    "    return plate"
   ]
  },
  {
   "cell_type": "code",
   "execution_count": 9,
   "metadata": {},
   "outputs": [],
   "source": [
    "import matplotlib.pyplot as plt\n",
    "\n",
    "CAR_FOLDER = \"./Data/Car\"\n",
    "PLATE_FOLDER = \"./Data/Plate/\"\n",
    "\n",
    "for carFile in get_image_files(CAR_FOLDER):\n",
    "  carPath = os.path.join(CAR_FOLDER, carFile)\n",
    "  carImg = cv2.imread(carPath)\n",
    "  cc = CascadeClassifier(carImg, 1.2)\n",
    "  cc.detect_cascade()\n",
    "  plate = cc.get_plate()\n",
    "  outPath = os.path.join(PLATE_FOLDER, carFile)\n",
    "  cv2.imwrite(outPath, plate)"
   ]
  },
  {
   "cell_type": "markdown",
   "metadata": {},
   "source": [
    "## Character Recognition"
   ]
  },
  {
   "cell_type": "code",
   "execution_count": 43,
   "metadata": {},
   "outputs": [],
   "source": [
    "plateImg = {}\n",
    "for plateFile in get_image_files(PLATE_FOLDER):\n",
    "  plateImgPath = os.path.join(PLATE_FOLDER, plateFile)\n",
    "  plateImg[remove_extension(plateFile)] = cv2.imread(plateImgPath)"
   ]
  },
  {
   "cell_type": "code",
   "execution_count": 18,
   "metadata": {},
   "outputs": [],
   "source": [
    "class ImageRecognizer:\n",
    "    def __init__(self, image, *, psm=6, char_whitelist=\"ABCDEFGHIJKLMNOPQRSTUVWXYZ0123456789\"):\n",
    "        self.image = image\n",
    "        self.config = f\"--psm {psm} tessedit_char_whitelist = {char_whitelist}\"\n",
    "        self.processed = False\n",
    "\n",
    "    def recognize(self):\n",
    "        self.boxes = pt.image_to_boxes(\n",
    "            self.image, config=self.config, output_type=Output.DICT)\n",
    "        self.data = pt.image_to_data(\n",
    "            self.image, config=self.config, output_type=Output.DICT)\n",
    "        self.text = pt.image_to_string(self.image, config=self.config)\n",
    "        self.processed = True\n",
    "\n",
    "    def get_text(self):\n",
    "        if not self.processed:\n",
    "            return False\n",
    "        return self.text\n",
    "\n",
    "    def get_boxes(self):\n",
    "        if not self.processed:\n",
    "            return False\n",
    "        return self.boxes\n",
    "\n",
    "    def get_data(self):\n",
    "        if not self.processed:\n",
    "            return False\n",
    "        return self.data"
   ]
  },
  {
   "cell_type": "code",
   "execution_count": 44,
   "metadata": {},
   "outputs": [
    {
     "name": "stdout",
     "output_type": "stream",
     "text": [
      "{'DL7CQ1939': '<DL 7C0 1939\\n\\x0c', 'TN63DB5481': '‘I TN 63 DB 5481 |\\n\\x0c', 'MH20EJ0365': 'MH20EJ 0365\\n\\x0c', 'CG04MF2250': '[ _CC04MF2250\\n\\x0c', 'MH12DE1433': 'MH12DE1433]\\n\\x0c', 'GJ03ER0563': '+6J03ER0563]\\n\\x0c', 'KL52P3003': 'KL 52 P_3003]\\n\\x0c', 'AS01AZ7873': 'IASG1AZ7873\\n\\x0c', 'DL2CK8169': '% DL 2C K8169\\n\\x0c', 'MH20DV2363': 'MH 20DV 2363I\\n\\x0c', 'UK07AW2153': ') [~UK07ANZ2153\\n\\x0c', 'MH20DV2366': 'w\\n<MH20DY2366|]\\n\\x0c', 'DL8CAF5030': '-DL8CAF5030]\\n\\x0c', 'MH01AV8866': 'MHO1AVB866)\\n\\x0c'}\n"
     ]
    }
   ],
   "source": [
    "tesseract_output = {}\n",
    "for file, img in plateImg.items():\n",
    "  # img = ImageProcess.get_grayscale(img)\n",
    "  # img = ImageProcess.thresholding(img)\n",
    "  ir = ImageRecognizer(img)\n",
    "  ir.recognize()\n",
    "  tesseract_output[file] = ir.get_text()\n",
    "\n",
    "print(tesseract_output)"
   ]
  },
  {
   "cell_type": "code",
   "execution_count": 23,
   "metadata": {},
   "outputs": [],
   "source": [
    "NUMERPLATE_PATTERN=regex.compile(\n",
    "    r\"(([A-Z]\\s*){2}([0-9]\\s*){1,2}([A-Z]\\s*){2}([0-9]\\s*){1,4}){s<2}\")\n",
    "def get_numberplate_matches(text):\n",
    "  matches = NUMERPLATE_PATTERN.findall(text)\n",
    "  return matches"
   ]
  },
  {
   "cell_type": "code",
   "execution_count": 45,
   "metadata": {},
   "outputs": [
    {
     "name": "stdout",
     "output_type": "stream",
     "text": [
      "Unmatched: 0 Total: 14\n",
      "{'DL7CQ1939': 'DL 7C0 1939', 'TN63DB5481': 'I TN 63 DB 5481', 'MH20EJ0365': 'MH20EJ 0365', 'CG04MF2250': 'CC04MF2250', 'MH12DE1433': 'MH12DE1433', 'GJ03ER0563': '6J03ER0563', 'KL52P3003': 'KL 52 P_3003', 'AS01AZ7873': 'ASG1AZ7873', 'DL2CK8169': 'DL 2C K8169', 'MH20DV2363': 'MH 20DV 2363', 'UK07AW2153': 'UK07ANZ2153', 'MH20DV2366': 'MH20DY2366', 'DL8CAF5030': 'DL8CAF5030', 'MH01AV8866': 'HO1AVB866'}\n"
     ]
    }
   ],
   "source": [
    "count = 0\n",
    "matched_output = {}\n",
    "for file, output in tesseract_output.items():\n",
    "  match = get_numberplate_matches(output)\n",
    "  if len(match) == 0:\n",
    "    count += 1\n",
    "  else:\n",
    "    matched_output[file] = match[0][0].strip()\n",
    "\n",
    "print(f\"Unmatched: {count} Total: {len(tesseract_output)}\")\n",
    "print(matched_output)"
   ]
  },
  {
   "cell_type": "code",
   "execution_count": 48,
   "metadata": {},
   "outputs": [],
   "source": [
    "import nltk\n",
    "\n",
    "def get_distance(str1, str2):\n",
    "  str2 = [ c for c in str2 if c.isalnum() ]\n",
    "  return nltk.edit_distance(str1, str2)"
   ]
  },
  {
   "cell_type": "code",
   "execution_count": 49,
   "metadata": {},
   "outputs": [
    {
     "name": "stdout",
     "output_type": "stream",
     "text": [
      "{'DL7CQ1939': 1, 'TN63DB5481': 1, 'MH20EJ0365': 0, 'CG04MF2250': 1, 'MH12DE1433': 0, 'GJ03ER0563': 1, 'KL52P3003': 0, 'AS01AZ7873': 1, 'DL2CK8169': 0, 'MH20DV2363': 0, 'UK07AW2153': 2, 'MH20DV2366': 1, 'DL8CAF5030': 0, 'MH01AV8866': 3}\n"
     ]
    }
   ],
   "source": [
    "edit_distances = {}\n",
    "for file, prediction in matched_output.items():\n",
    "  edit_distances[file] = get_distance(file, prediction)\n",
    "print(edit_distances)"
   ]
  },
  {
   "cell_type": "code",
   "execution_count": null,
   "metadata": {},
   "outputs": [],
   "source": []
  }
 ],
 "metadata": {
  "interpreter": {
   "hash": "fbfd2557b6775ff41098dd1ea48a7ed7589fc18abd4c534c79632a05ba5e2087"
  },
  "kernelspec": {
   "display_name": "Python 3.8.12 64-bit ('MLPackage38': venv)",
   "name": "python3"
  },
  "language_info": {
   "codemirror_mode": {
    "name": "ipython",
    "version": 3
   },
   "file_extension": ".py",
   "mimetype": "text/x-python",
   "name": "python",
   "nbconvert_exporter": "python",
   "pygments_lexer": "ipython3",
   "version": "3.8.12"
  },
  "orig_nbformat": 4
 },
 "nbformat": 4,
 "nbformat_minor": 2
}
